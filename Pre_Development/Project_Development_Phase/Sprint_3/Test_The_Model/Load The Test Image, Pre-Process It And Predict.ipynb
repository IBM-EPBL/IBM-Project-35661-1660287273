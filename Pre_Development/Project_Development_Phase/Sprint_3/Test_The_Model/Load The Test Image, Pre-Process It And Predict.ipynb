{
 "cells": [
  {
   "cell_type": "code",
   "execution_count": 1,
   "id": "a6e4f2dc",
   "metadata": {},
   "outputs": [],
   "source": [
    "from tensorflow.keras.models import load_model\n",
    "from tensorflow.keras.preprocessing import image\n",
    "import numpy as np\n",
    "import cv2"
   ]
  },
  {
   "cell_type": "code",
   "execution_count": 2,
   "id": "ea56579d",
   "metadata": {},
   "outputs": [],
   "source": [
    "model = load_model(r'C:\\Users\\schit\\Downloads\\conversation engine for deaf and dumb (1)\\Real_time.h5')"
   ]
  },
  {
   "cell_type": "code",
   "execution_count": 3,
   "id": "f0628604",
   "metadata": {},
   "outputs": [
    {
     "data": {
      "image/png": "[encoded data removed]",
      "text/plain": [
       "<PIL.Image.Image image mode=RGB size=100x100>"
      ]
     },
     "execution_count": 3,
     "metadata": {},
     "output_type": "execute_result"
    }
   ],
   "source": [
    "img = image.load_img(r'C:\\Users\\schit\\Downloads\\conversation engine for deaf and dumb (1)\\Dataset/test_set/H/100.png',target_size = (100,100))\n",
    "img"
   ]
  },
  {
   "cell_type": "code",
   "execution_count": 4,
   "id": "8d179195",
   "metadata": {},
   "outputs": [],
   "source": [
    "from skimage.transform import resize\n",
    "def detect(frame):\n",
    "    img=image.img_to_array(frame)\n",
    "    img = resize(img,(64,64,1))\n",
    "    img = np.expand_dims(img,axis=0)\n",
    "    pred=np.argmax(model.predict(img))\n",
    "    op=['A','B','C','D','E','F','G','H','I']\n",
    "    print(\"THE PREDICTED LETTER IS \",op[pred])"
   ]
  },
  {
   "cell_type": "code",
   "execution_count": 5,
   "id": "882bd8c4",
   "metadata": {},
   "outputs": [
    {
     "name": "stdout",
     "output_type": "stream",
     "text": [
      "1/1 [==============================] - 0s 225ms/step\n",
      "THE PREDICTED LETTER IS  G\n"
     ]
    }
   ],
   "source": [
    "img=image.load_img(r'C:\\Users\\schit\\Downloads\\conversation engine for deaf and dumb (1)\\Dataset/test_set/H/100.png')\n",
    "detect(img)"
   ]
  },
  {
   "cell_type": "code",
   "execution_count": 6,
   "id": "41e59b63",
   "metadata": {},
   "outputs": [
    {
     "name": "stdout",
     "output_type": "stream",
     "text": [
      "1/1 [==============================] - 0s 39ms/step\n",
      "THE PREDICTED LETTER IS  A\n"
     ]
    }
   ],
   "source": [
    "img=image.load_img(r'C:\\Users\\schit\\Downloads\\conversation engine for deaf and dumb (1)\\Dataset/test_set/A/10.png')\n",
    "pred=detect(img)"
   ]
  },
  {
   "cell_type": "code",
   "execution_count": 7,
   "id": "f20f3992",
   "metadata": {},
   "outputs": [
    {
     "name": "stdout",
     "output_type": "stream",
     "text": [
      "1/1 [==============================] - 0s 34ms/step\n",
      "THE PREDICTED LETTER IS  E\n"
     ]
    }
   ],
   "source": [
    "img=image.load_img(r'C:\\Users\\schit\\Downloads\\conversation engine for deaf and dumb (1)\\Dataset/test_set/E/101.png')\n",
    "pred=detect(img)"
   ]
  },
  {
   "cell_type": "code",
   "execution_count": null,
   "id": "723df8b2",
   "metadata": {},
   "outputs": [],
   "source": []
  }
 ],
 "metadata": {
  "kernelspec": {
   "display_name": "Python 3 (ipykernel)",
   "language": "python",
   "name": "python3"
  },
  "language_info": {
   "codemirror_mode": {
    "name": "ipython",
    "version": 3
   },
   "file_extension": ".py",
   "mimetype": "text/x-python",
   "name": "python",
   "nbconvert_exporter": "python",
   "pygments_lexer": "ipython3",
   "version": "3.9.13"
  }
 },
 "nbformat": 4,
 "nbformat_minor": 5
}
